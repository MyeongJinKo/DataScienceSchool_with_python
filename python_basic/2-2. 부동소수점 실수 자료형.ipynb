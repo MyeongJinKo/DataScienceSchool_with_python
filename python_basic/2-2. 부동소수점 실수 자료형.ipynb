{
 "cells": [
  {
   "cell_type": "markdown",
   "id": "bfd7b5fc",
   "metadata": {},
   "source": [
    "### 정수와 실수 자료형"
   ]
  },
  {
   "cell_type": "code",
   "execution_count": 1,
   "id": "6992ca94",
   "metadata": {},
   "outputs": [
    {
     "data": {
      "text/plain": [
       "10"
      ]
     },
     "execution_count": 1,
     "metadata": {},
     "output_type": "execute_result"
    }
   ],
   "source": [
    "10"
   ]
  },
  {
   "cell_type": "code",
   "execution_count": 2,
   "id": "87678420",
   "metadata": {},
   "outputs": [
    {
     "data": {
      "text/plain": [
       "10.0"
      ]
     },
     "execution_count": 2,
     "metadata": {},
     "output_type": "execute_result"
    }
   ],
   "source": [
    "10.0"
   ]
  },
  {
   "cell_type": "code",
   "execution_count": 3,
   "id": "4b787934",
   "metadata": {},
   "outputs": [
    {
     "data": {
      "text/plain": [
       "0.1"
      ]
     },
     "execution_count": 3,
     "metadata": {},
     "output_type": "execute_result"
    }
   ],
   "source": [
    ".1"
   ]
  },
  {
   "cell_type": "code",
   "execution_count": 4,
   "id": "6aa2df67",
   "metadata": {},
   "outputs": [
    {
     "data": {
      "text/plain": [
       "40"
      ]
     },
     "execution_count": 4,
     "metadata": {},
     "output_type": "execute_result"
    }
   ],
   "source": [
    "10 * 4"
   ]
  },
  {
   "cell_type": "code",
   "execution_count": 5,
   "id": "bc85595a",
   "metadata": {},
   "outputs": [
    {
     "data": {
      "text/plain": [
       "40.0"
      ]
     },
     "execution_count": 5,
     "metadata": {},
     "output_type": "execute_result"
    }
   ],
   "source": [
    "10.0 * 4"
   ]
  },
  {
   "cell_type": "code",
   "execution_count": 6,
   "id": "a3de66f7",
   "metadata": {},
   "outputs": [
    {
     "data": {
      "text/plain": [
       "2.0"
      ]
     },
     "execution_count": 6,
     "metadata": {},
     "output_type": "execute_result"
    }
   ],
   "source": [
    "10 / 5"
   ]
  },
  {
   "cell_type": "code",
   "execution_count": 7,
   "id": "e94dafff",
   "metadata": {},
   "outputs": [
    {
     "data": {
      "text/plain": [
       "2"
      ]
     },
     "execution_count": 7,
     "metadata": {},
     "output_type": "execute_result"
    }
   ],
   "source": [
    "10 // 5"
   ]
  },
  {
   "cell_type": "code",
   "execution_count": 8,
   "id": "d6bb5589",
   "metadata": {},
   "outputs": [
    {
     "data": {
      "text/plain": [
       "int"
      ]
     },
     "execution_count": 8,
     "metadata": {},
     "output_type": "execute_result"
    }
   ],
   "source": [
    "type(10)"
   ]
  },
  {
   "cell_type": "code",
   "execution_count": 9,
   "id": "06c793be",
   "metadata": {},
   "outputs": [
    {
     "data": {
      "text/plain": [
       "float"
      ]
     },
     "execution_count": 9,
     "metadata": {},
     "output_type": "execute_result"
    }
   ],
   "source": [
    "type(10.0)"
   ]
  },
  {
   "cell_type": "markdown",
   "id": "498d2a5c",
   "metadata": {},
   "source": [
    "###  부동소수점 실수\n",
    "\n",
    "프로그래밍 언어는 IEEE 754라는 국제표준에 따라 실수를 부동소수점 방식으로 표현\n",
    "\n",
    "부동소수점 방식에서는 숫자를 정수로 된 유효숫자와 정수로 된 지수의 곱으로 표현\n",
    "\n",
    "EX) 십진수 부동소수점 방식에서 123.456이란 숫자는 123456 * 10^-3 이므로 123456 이라는 정수 유효숫자와 -3 이라는 정수 지수로 나타낼 수 있다"
   ]
  },
  {
   "cell_type": "code",
   "execution_count": 10,
   "id": "ce3c344a",
   "metadata": {},
   "outputs": [
    {
     "data": {
      "text/plain": [
       "12300.0"
      ]
     },
     "execution_count": 10,
     "metadata": {},
     "output_type": "execute_result"
    }
   ],
   "source": [
    "123e2"
   ]
  },
  {
   "cell_type": "code",
   "execution_count": 11,
   "id": "2cda2875",
   "metadata": {},
   "outputs": [
    {
     "data": {
      "text/plain": [
       "1.23"
      ]
     },
     "execution_count": 11,
     "metadata": {},
     "output_type": "execute_result"
    }
   ],
   "source": [
    "123e-2"
   ]
  },
  {
   "cell_type": "code",
   "execution_count": 13,
   "id": "30fc20f2",
   "metadata": {},
   "outputs": [
    {
     "data": {
      "text/plain": [
       "0.123456"
      ]
     },
     "execution_count": 13,
     "metadata": {},
     "output_type": "execute_result"
    }
   ],
   "source": [
    "123.456e-3"
   ]
  },
  {
   "cell_type": "markdown",
   "id": "da0e73fa",
   "metadata": {},
   "source": [
    "### 연습문제"
   ]
  },
  {
   "cell_type": "code",
   "execution_count": 16,
   "id": "0b9e0f45",
   "metadata": {},
   "outputs": [
    {
     "name": "stdout",
     "output_type": "stream",
     "text": [
      "3.141592\n",
      "2.718\n",
      "1.4\n",
      "1.74\n"
     ]
    }
   ],
   "source": [
    "print(3141592e-6)\n",
    "print(2718e-3)\n",
    "print(14e-1)\n",
    "print(174e-2)"
   ]
  },
  {
   "cell_type": "markdown",
   "id": "7ae5f5c6",
   "metadata": {},
   "source": [
    "### 십진법과 이진법\n",
    "\n",
    "컴퓨터는 십진법이 아닌 이진법을 사용한다. 십진법 : 0, 1, 2, 3, 4, 5, 6, 7, 8, 9 의 10개 숫자만 사용\n",
    "\n",
    "10 이상의 수는 10, 100, 1000 ... 자리를 나타내는 숫자를 나열하여 표현. 따라서 모든 십진법 숫자는\n",
    "\n",
    "10의 제곱의 합으로 풀어서 나타낼 수 있다."
   ]
  },
  {
   "cell_type": "markdown",
   "id": "c0e7b47f",
   "metadata": {},
   "source": [
    "### 연습문제"
   ]
  },
  {
   "cell_type": "code",
   "execution_count": 20,
   "id": "95330fd2",
   "metadata": {},
   "outputs": [
    {
     "data": {
      "text/plain": [
       "1000.0"
      ]
     },
     "execution_count": 20,
     "metadata": {},
     "output_type": "execute_result"
    }
   ],
   "source": [
    "10e2"
   ]
  },
  {
   "cell_type": "code",
   "execution_count": 23,
   "id": "cdc7dff9",
   "metadata": {},
   "outputs": [
    {
     "name": "stdout",
     "output_type": "stream",
     "text": [
      "1234.0\n",
      "1010\n"
     ]
    }
   ],
   "source": [
    "print(10e2 + (2 * 10e1) + (3 * 10e0) + 4)\n",
    "print(10**3 + 10**1)"
   ]
  },
  {
   "cell_type": "code",
   "execution_count": 29,
   "id": "c7d59ec8",
   "metadata": {},
   "outputs": [
    {
     "name": "stdout",
     "output_type": "stream",
     "text": [
      "0b11\n",
      "0b101\n",
      "0b10000001\n"
     ]
    }
   ],
   "source": [
    "# 파이썬의 bin 명령을 쓰면 정수 십진수를 이진수로 변환할 수 있다.\n",
    "print(bin(3))\n",
    "print(bin(5))\n",
    "print(bin(129))"
   ]
  },
  {
   "cell_type": "code",
   "execution_count": 31,
   "id": "4db44a8d",
   "metadata": {},
   "outputs": [
    {
     "name": "stdout",
     "output_type": "stream",
     "text": [
      "13\n",
      "129\n",
      "0.5\n"
     ]
    }
   ],
   "source": [
    "print(2**3 + 2**2 + 2**0)\n",
    "print(2**7 + 2**0)\n",
    "print(2**-1)"
   ]
  }
 ],
 "metadata": {
  "kernelspec": {
   "display_name": "Python 3 (ipykernel)",
   "language": "python",
   "name": "python3"
  },
  "language_info": {
   "codemirror_mode": {
    "name": "ipython",
    "version": 3
   },
   "file_extension": ".py",
   "mimetype": "text/x-python",
   "name": "python",
   "nbconvert_exporter": "python",
   "pygments_lexer": "ipython3",
   "version": "3.12.7"
  }
 },
 "nbformat": 4,
 "nbformat_minor": 5
}
