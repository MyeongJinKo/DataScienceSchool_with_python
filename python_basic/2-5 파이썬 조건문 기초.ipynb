{
 "cells": [
  {
   "cell_type": "markdown",
   "id": "78401c39",
   "metadata": {},
   "source": [
    "### if ~ else 명령"
   ]
  },
  {
   "cell_type": "code",
   "execution_count": 1,
   "id": "a97d288a",
   "metadata": {},
   "outputs": [
    {
     "name": "stdout",
     "output_type": "stream",
     "text": [
      "홀수\n"
     ]
    }
   ],
   "source": [
    "a = 1\n",
    "\n",
    "if a % 2 == 0:\n",
    "    print(\"짝수\")\n",
    "else:\n",
    "    print(\"홀수\")"
   ]
  },
  {
   "cell_type": "code",
   "execution_count": 2,
   "id": "94de5086",
   "metadata": {},
   "outputs": [
    {
     "name": "stdout",
     "output_type": "stream",
     "text": [
      "2자리 수의 짝수가 아니다.\n"
     ]
    }
   ],
   "source": [
    "b = 55\n",
    "if (b >= 10) & (b < 100) & (b % 2 == 0):\n",
    "    print(\"2자리 수의 짝수이다.\")\n",
    "else:\n",
    "    print(\"2자리 수의 짝수가 아니다.\")"
   ]
  },
  {
   "cell_type": "markdown",
   "id": "ab572161",
   "metadata": {},
   "source": [
    "### 연습문제"
   ]
  },
  {
   "cell_type": "markdown",
   "id": "84632692",
   "metadata": {},
   "source": [
    "변수 y의 값이 윤년이면 “윤년입니다”를 출력하고 아니라면 “윤년이 아닙니다”라고 출력하는 프로그램을 만든다. 윤년은 2월 29일이 있는 해로 다음과 같이 정해진다.\n",
    "\n",
    "- 서력 기원 연수가 4로 나누어 떨어지는 해는 윤년으로 한다(2004년, 2008년, 2012년, 2016년, 2020년, 2024년, …).\n",
    "\n",
    "- 이 중에서 100으로 나누어 떨어지는 해는 평년으로 한다(1900년, 2100년, 2200년, 2300년, 2500년, …).\n",
    "\n",
    "- 이 중에서 400으로 나누어 떨어지는 해는 윤년으로 둔다(1600년, 2000년, 2400년, …)."
   ]
  },
  {
   "cell_type": "code",
   "execution_count": 15,
   "id": "701c2312",
   "metadata": {},
   "outputs": [
    {
     "name": "stdout",
     "output_type": "stream",
     "text": [
      "윤년입니다.\n"
     ]
    }
   ],
   "source": [
    "y = 2004\n",
    "\n",
    "if y % 400 == 0 or y % 100 != 0 and y % 4 == 0:  \n",
    "    print(\"윤년입니다.\")\n",
    "else:\n",
    "    print(\"윤년이 아닙니다.\")"
   ]
  },
  {
   "cell_type": "markdown",
   "id": "b197a433",
   "metadata": {},
   "source": [
    "### if ~ elif ~ else 명령"
   ]
  },
  {
   "cell_type": "code",
   "execution_count": 16,
   "id": "79f03da9",
   "metadata": {},
   "outputs": [
    {
     "name": "stdout",
     "output_type": "stream",
     "text": [
      "B\n"
     ]
    }
   ],
   "source": [
    "c = 6\n",
    "\n",
    "if c >= 8:\n",
    "    print(\"A\")\n",
    "elif c >= 5:\n",
    "    print(\"B\")\n",
    "else:\n",
    "    print(\"C\")"
   ]
  },
  {
   "cell_type": "markdown",
   "id": "5dc7a89a",
   "metadata": {},
   "source": [
    "### 연습문제"
   ]
  },
  {
   "cell_type": "markdown",
   "id": "2a5c21ab",
   "metadata": {},
   "source": [
    "어떤 농장에서는 수박이 10kg이 넘으면 1등급, 그렇지 않고 7kg이 넘으면 2등급,, 그렇지 않고 4kg이 넘으면 3등급, 나머지는 4등급을 준다고 한다. 이 수박의 등급을 정하는 파이썬 코드를 작성한다."
   ]
  },
  {
   "cell_type": "code",
   "execution_count": 18,
   "id": "b109f65b",
   "metadata": {},
   "outputs": [
    {
     "name": "stdout",
     "output_type": "stream",
     "text": [
      "1등급\n"
     ]
    }
   ],
   "source": [
    "wm = 12\n",
    "\n",
    "if wm > 10:\n",
    "    print(\"1등급\")\n",
    "elif wm > 7:\n",
    "    print(\"2등급\")\n",
    "elif wm > 4:\n",
    "    print(\"3등급\")\n",
    "else:\n",
    "    print(\"4등급\")"
   ]
  },
  {
   "cell_type": "markdown",
   "id": "5f77332c",
   "metadata": {},
   "source": [
    "### 중첩 조건문"
   ]
  },
  {
   "cell_type": "markdown",
   "id": "dae0d524",
   "metadata": {},
   "source": [
    "<!-- \n",
    "if 조건1:\n",
    "    조건1이 참일 때 실행되는 명령\n",
    "    if 조건2:\n",
    "        조건1과 조건2가 모두 참일 때 실행되는 명령\n",
    "    else:\n",
    "        조건1은 참이고 조건2는 거짓일 때 실행되는 명령\n",
    "else:\n",
    "    조건1이 거짓일 때 실행되는 명령 -->"
   ]
  },
  {
   "cell_type": "code",
   "execution_count": 21,
   "id": "8c522965",
   "metadata": {},
   "outputs": [],
   "source": [
    "# if 조건1:\n",
    "#     조건1이 참일 때 실행되는 명령\n",
    "#     if 조건2:\n",
    "#         조건1과 조건2가 모두 참일 때 실행되는 명령\n",
    "#     else:\n",
    "#         조건1은 참이고 조건2는 거짓일 때 실행되는 명령\n",
    "# else:\n",
    "#     조건1이 거짓일 때 실행되는 명령"
   ]
  },
  {
   "cell_type": "code",
   "execution_count": 22,
   "id": "e8b1b46a",
   "metadata": {},
   "outputs": [
    {
     "name": "stdout",
     "output_type": "stream",
     "text": [
      "탈락\n"
     ]
    }
   ],
   "source": [
    "sex = 'boy'\n",
    "pushup = 8\n",
    "\n",
    "if sex == 'boy':\n",
    "    if pushup >= 10:\n",
    "        print(\"패스\")\n",
    "    else:\n",
    "        print(\"탈락\")\n",
    "else:\n",
    "    if pushup >= 7:\n",
    "        print(\"패스\")\n",
    "    else:\n",
    "        print(\"탈락\")\n"
   ]
  },
  {
   "cell_type": "markdown",
   "id": "acc59387",
   "metadata": {},
   "source": [
    "### 연습문제\n",
    "\n",
    "죄수의 딜레마는 게임 이론의 유명한 사례이다\n",
    "\n",
    "- https://ko.wikipedia.org/wiki/죄수의_딜레마\n",
    "\n",
    "두 명의 범죄자 A, B가 체포되어 서로 다른 취조실에서 격리되어 심문을 받고 있다. 이들에게 자백 여부에 따라 다음의 선택이 가능하다.\n",
    "\n",
    "- 둘 중 하나가 배신하여 죄를 자백하면 자백한 사람은 즉시 풀어주고 나머지 한 명이 10년을 복역해야 한다.\n",
    "\n",
    "- 둘 모두 서로를 배신하여 죄를 자백하면 둘 다 5년을 복역한다.\n",
    "\n",
    "- 둘 모두 죄를 자백하지 않으면 둘 다 1년을 복역한다.\n",
    "\n",
    "죄수를 나타내는 변수 XA, XB는 자백하면 True, 그렇지 않으면 False를 가지는 값이다. 이때 변수 XA, XB 값에 따라 각각이 복역해야 하는 연 수를 변수 YA, YB라고 할 때 YA, YB를 계산하는 프로그램을 만든다."
   ]
  },
  {
   "cell_type": "code",
   "execution_count": 26,
   "id": "c3ed94fe",
   "metadata": {},
   "outputs": [
    {
     "name": "stdout",
     "output_type": "stream",
     "text": [
      "죄수a는 징역1년 이고, 죄수b는 징역1년 이다\n"
     ]
    }
   ],
   "source": [
    "xa = '미자백'\n",
    "xb = '미자백'\n",
    "\n",
    "if xa == '자백':\n",
    "    if xb == '자백':\n",
    "        ya = 1\n",
    "        yb = 1\n",
    "    else:\n",
    "        ya = 0\n",
    "        yb = 10\n",
    "elif xa != '자백':\n",
    "    if xb == '자백':\n",
    "        ya = 10\n",
    "        yb = 0\n",
    "    else:\n",
    "        ya = 1\n",
    "        yb = 1\n",
    "\n",
    "print(f\"죄수a는 징역{ya}년 이고, 죄수b는 징역{yb}년 이다\")"
   ]
  }
 ],
 "metadata": {
  "kernelspec": {
   "display_name": "Python 3 (ipykernel)",
   "language": "python",
   "name": "python3"
  },
  "language_info": {
   "codemirror_mode": {
    "name": "ipython",
    "version": 3
   },
   "file_extension": ".py",
   "mimetype": "text/x-python",
   "name": "python",
   "nbconvert_exporter": "python",
   "pygments_lexer": "ipython3",
   "version": "3.12.7"
  }
 },
 "nbformat": 4,
 "nbformat_minor": 5
}
