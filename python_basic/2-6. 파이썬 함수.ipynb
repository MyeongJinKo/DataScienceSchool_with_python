{
 "cells": [
  {
   "cell_type": "code",
   "execution_count": 1,
   "id": "f6dc8a76-3eb2-4a9d-878f-9911a96a1f68",
   "metadata": {},
   "outputs": [],
   "source": [
    "def twotimes(x):\n",
    "    y = 2 * x\n",
    "    return y"
   ]
  },
  {
   "cell_type": "code",
   "execution_count": 2,
   "id": "3fc0c821",
   "metadata": {},
   "outputs": [
    {
     "data": {
      "text/plain": [
       "4"
      ]
     },
     "execution_count": 2,
     "metadata": {},
     "output_type": "execute_result"
    }
   ],
   "source": [
    "twotimes(2)"
   ]
  },
  {
   "cell_type": "markdown",
   "id": "bd84f3c6",
   "metadata": {},
   "source": [
    "### 연습문제 \n",
    "\n",
    "1. 짝수가 입력되면 짝수라는 문자열을, 홀수가 입력되면 홀수라는 문자열을 반환하는 함수를 만든다.\n",
    "<br>\n",
    "1. 윤년을 나타나는 수가 입력되면 윤년이라는 문자열을, 그렇지 않은 수가 입력되면 평년이라는 문자열을 반환하는 함수를 만든다.\n",
    "1. 평년일 때 1, 3, 5, 7, 8, 10, 12 월은 31일, 4, 6, 9, 11월은 30일, 2월은 28일이다. 월을 나타내는 숫자를 입력하면 그 달의 날짜 수를 반환하는 함수 days1 를 만든다. 사용 예는 다음과 같다."
   ]
  },
  {
   "cell_type": "code",
   "execution_count": 5,
   "id": "0bf26f93",
   "metadata": {},
   "outputs": [
    {
     "name": "stdout",
     "output_type": "stream",
     "text": [
      "홀수\n"
     ]
    }
   ],
   "source": [
    "# 1번 문제\n",
    "\n",
    "def even_odd(x):\n",
    "    if x % 2 == 0:\n",
    "        print(\"짝수\")\n",
    "    else:\n",
    "        print(\"홀수\")\n",
    "\n",
    "even_odd(3)"
   ]
  },
  {
   "cell_type": "code",
   "execution_count": 18,
   "id": "f06a541d",
   "metadata": {},
   "outputs": [
    {
     "name": "stdout",
     "output_type": "stream",
     "text": [
      "윤년\n"
     ]
    }
   ],
   "source": [
    "# 2번 문제\n",
    "\n",
    "def leap_year(y):\n",
    "    if y % 400 == 0 or y % 100 != 0 and y % 4 == 0:  \n",
    "        print(\"윤년\")\n",
    "    else:\n",
    "        print(\"평년\")\n",
    "        \n",
    "leap_year(2024)"
   ]
  },
  {
   "cell_type": "code",
   "execution_count": 13,
   "id": "64b9ebe6",
   "metadata": {},
   "outputs": [
    {
     "name": "stdout",
     "output_type": "stream",
     "text": [
      "28\n"
     ]
    }
   ],
   "source": [
    "# 3번 문제\n",
    "\n",
    "def days1(m):\n",
    "    if m in [1, 3, 5, 7, 8, 10, 12]:\n",
    "        print(31)\n",
    "    elif m in [4, 6, 9 ,11]:\n",
    "        print(30)\n",
    "    elif m == 2:\n",
    "        print(28)\n",
    "    else:\n",
    "        print(\"잘못된 입력입니다. 1~12월 중에서 선택해주세요\")\n",
    "        \n",
    "days1(2)"
   ]
  },
  {
   "cell_type": "markdown",
   "id": "cff8660c",
   "metadata": {},
   "source": [
    "### 입력이 여러 개인 함수"
   ]
  },
  {
   "cell_type": "code",
   "execution_count": 14,
   "id": "ce146ddf",
   "metadata": {},
   "outputs": [
    {
     "data": {
      "text/plain": [
       "3"
      ]
     },
     "execution_count": 14,
     "metadata": {},
     "output_type": "execute_result"
    }
   ],
   "source": [
    "def add(x, y):\n",
    "    return x + y\n",
    "\n",
    "add(1, 2)"
   ]
  },
  {
   "cell_type": "code",
   "execution_count": 15,
   "id": "84f30d5b",
   "metadata": {},
   "outputs": [
    {
     "data": {
      "text/plain": [
       "6"
      ]
     },
     "execution_count": 15,
     "metadata": {},
     "output_type": "execute_result"
    }
   ],
   "source": [
    "def sum(a, b, c):\n",
    "    s = a + b + c\n",
    "    return s\n",
    "\n",
    "sum(1, 2, 3)"
   ]
  },
  {
   "cell_type": "markdown",
   "id": "e95a427a",
   "metadata": {},
   "source": [
    "### 연습문제\n",
    "\n",
    "연도를 나타내는 숫자와 월을 나타내는 숫자를 입력하면 그 달의 날짜 수를 반환하는 함수 days2 를 만든다.\n",
    "\n",
    "사용 예는 다음과 같다."
   ]
  },
  {
   "cell_type": "code",
   "execution_count": 16,
   "id": "0e587759",
   "metadata": {},
   "outputs": [],
   "source": [
    "def days2(y, m):\n",
    "    if y % 400 == 0 or y % 100 != 0 and y % 4 == 0:  \n",
    "        if m in [1, 3, 5, 7, 8, 10, 12]:\n",
    "            print(31)\n",
    "        elif m in [4, 6, 9 ,11]:\n",
    "            print(30)\n",
    "        elif m == 2:\n",
    "            print(29)\n",
    "        else:\n",
    "            print(\"잘못된 입력, 1~12월 중에서 선택\")\n",
    "    else:\n",
    "        if m in [1, 3, 5, 7, 8, 10, 12]:\n",
    "            print(31)\n",
    "        elif m in [4, 6, 9 ,11]:\n",
    "            print(30)\n",
    "        elif m == 2:\n",
    "            print(28)\n",
    "        else:\n",
    "            print(\"잘못된 입력, 1~12월 중에서 선택\")"
   ]
  },
  {
   "cell_type": "code",
   "execution_count": 21,
   "id": "06642ede",
   "metadata": {},
   "outputs": [
    {
     "name": "stdout",
     "output_type": "stream",
     "text": [
      "28\n"
     ]
    }
   ],
   "source": [
    "days2(2200, 2)"
   ]
  },
  {
   "cell_type": "markdown",
   "id": "9afc7048",
   "metadata": {},
   "source": [
    "### 람다 함수 lambda\n",
    "\n",
    "함수에 이름을 주지 않거나 코드를 짧게 줄여쓰는 방법으로 람다(lambda)함수가 있다."
   ]
  },
  {
   "cell_type": "code",
   "execution_count": 25,
   "id": "15977cca",
   "metadata": {},
   "outputs": [],
   "source": [
    "def func(x):\n",
    "    return 2 * x"
   ]
  },
  {
   "cell_type": "code",
   "execution_count": 26,
   "id": "08076564",
   "metadata": {},
   "outputs": [],
   "source": [
    "f = lambda x: 2 * x"
   ]
  },
  {
   "cell_type": "code",
   "execution_count": 27,
   "id": "1d8d6507",
   "metadata": {},
   "outputs": [
    {
     "data": {
      "text/plain": [
       "4"
      ]
     },
     "execution_count": 27,
     "metadata": {},
     "output_type": "execute_result"
    }
   ],
   "source": [
    "f(2)"
   ]
  },
  {
   "cell_type": "markdown",
   "id": "7373149c",
   "metadata": {},
   "source": [
    "### 지역 변수\n",
    "\n",
    "함수에 넣은 입력 변수나 함수 안에서 만들어진 변수는 함수 바깥에서는 사용할 수 없다.\n",
    "\n",
    "이름이 같은 변수가 있다고 하더라도 별개의 변수가 된다.\n",
    "\n",
    "함수 안에서 만들어지고 사용되는 변수의 이름은 **지역변수(local variable)** 이라고 한다."
   ]
  },
  {
   "cell_type": "code",
   "execution_count": 28,
   "id": "f8828723",
   "metadata": {},
   "outputs": [],
   "source": [
    "def f(x):\n",
    "    y = 10 * x\n",
    "    print(\"y = \", y)\n",
    "    return y"
   ]
  },
  {
   "cell_type": "code",
   "execution_count": 29,
   "id": "fbc89d05",
   "metadata": {},
   "outputs": [
    {
     "name": "stdout",
     "output_type": "stream",
     "text": [
      "y =  100\n"
     ]
    },
    {
     "data": {
      "text/plain": [
       "100"
      ]
     },
     "execution_count": 29,
     "metadata": {},
     "output_type": "execute_result"
    }
   ],
   "source": [
    "f(10)"
   ]
  },
  {
   "cell_type": "code",
   "execution_count": 30,
   "id": "9c9076dc",
   "metadata": {},
   "outputs": [
    {
     "ename": "NameError",
     "evalue": "name 'y' is not defined",
     "output_type": "error",
     "traceback": [
      "\u001b[1;31m---------------------------------------------------------------------------\u001b[0m",
      "\u001b[1;31mNameError\u001b[0m                                 Traceback (most recent call last)",
      "Cell \u001b[1;32mIn[30], line 1\u001b[0m\n\u001b[1;32m----> 1\u001b[0m \u001b[43my\u001b[49m\n",
      "\u001b[1;31mNameError\u001b[0m: name 'y' is not defined"
     ]
    }
   ],
   "source": [
    "y"
   ]
  },
  {
   "cell_type": "markdown",
   "id": "6cd54a5d",
   "metadata": {},
   "source": [
    "위 예제처럼 함수 f(x) 안에서 만들어진 지역변수 y는 f(x) 함수 안에서만 변수로서 기능을하고\n",
    "\n",
    "함수 바깥에서는 y가 정의되지 않았다고 나온다.\n",
    "\n",
    "\n",
    "\n",
    "> 즉, 함수 안에서 만들어지는 지역 변수는 함수 바깥에 아무런 영향을 주지 않는다."
   ]
  },
  {
   "cell_type": "code",
   "execution_count": 31,
   "id": "738e4244",
   "metadata": {},
   "outputs": [],
   "source": [
    "y = 1000"
   ]
  },
  {
   "cell_type": "code",
   "execution_count": 32,
   "id": "b48aaeb6",
   "metadata": {},
   "outputs": [
    {
     "name": "stdout",
     "output_type": "stream",
     "text": [
      "y =  20\n"
     ]
    },
    {
     "data": {
      "text/plain": [
       "20"
      ]
     },
     "execution_count": 32,
     "metadata": {},
     "output_type": "execute_result"
    }
   ],
   "source": [
    "f(2)"
   ]
  },
  {
   "cell_type": "code",
   "execution_count": 33,
   "id": "f5358447",
   "metadata": {
    "scrolled": true
   },
   "outputs": [
    {
     "data": {
      "text/plain": [
       "1000"
      ]
     },
     "execution_count": 33,
     "metadata": {},
     "output_type": "execute_result"
    }
   ],
   "source": [
    "y"
   ]
  },
  {
   "cell_type": "code",
   "execution_count": 6,
   "id": "57fd921d",
   "metadata": {},
   "outputs": [
    {
     "ename": "TypeError",
     "evalue": "sum() takes at most 2 arguments (3 given)",
     "output_type": "error",
     "traceback": [
      "\u001b[1;31m---------------------------------------------------------------------------\u001b[0m",
      "\u001b[1;31mTypeError\u001b[0m                                 Traceback (most recent call last)",
      "Cell \u001b[1;32mIn[6], line 1\u001b[0m\n\u001b[1;32m----> 1\u001b[0m \u001b[38;5;28;43msum\u001b[39;49m\u001b[43m(\u001b[49m\u001b[38;5;241;43m1\u001b[39;49m\u001b[43m,\u001b[49m\u001b[43m \u001b[49m\u001b[38;5;241;43m2\u001b[39;49m\u001b[43m,\u001b[49m\u001b[43m \u001b[49m\u001b[38;5;241;43m3\u001b[39;49m\u001b[43m)\u001b[49m\n",
      "\u001b[1;31mTypeError\u001b[0m: sum() takes at most 2 arguments (3 given)"
     ]
    }
   ],
   "source": []
  },
  {
   "cell_type": "markdown",
   "id": "605a508a",
   "metadata": {},
   "source": [
    "### 연습문제\n",
    "\n",
    "3개의 숫자를 입력하면 “그 숫자들의 합”과 “그 숫자들을 제곱한 숫자들의 합”의 차이(큰 수에서 작을 수를 뺀 값)를 계산하는 함수 diffsum를 만든다. 큰 수에서 작은 수를 뺀 결과이므로 항상 0보다 크거나 0과 같아야 한다."
   ]
  },
  {
   "cell_type": "code",
   "execution_count": 7,
   "id": "4d7ec2a3",
   "metadata": {},
   "outputs": [],
   "source": [
    "def diffsum(a, b, c):\n",
    "    sum_num = a + b + c\n",
    "    sqr_num = a**2 + b**2 + c**2\n",
    "    if sum_num >= sqr_num:\n",
    "        return sum_num - sqr_num\n",
    "    else:\n",
    "        return sqr_num - sum_num"
   ]
  },
  {
   "cell_type": "code",
   "execution_count": 9,
   "id": "ae7d1fa4",
   "metadata": {
    "scrolled": true
   },
   "outputs": [
    {
     "data": {
      "text/plain": [
       "0.75"
      ]
     },
     "execution_count": 9,
     "metadata": {},
     "output_type": "execute_result"
    }
   ],
   "source": [
    "diffsum(0.5, 0.5, 0.5)"
   ]
  },
  {
   "cell_type": "markdown",
   "id": "bb90e7de",
   "metadata": {},
   "source": [
    "### 전역 변수\n",
    "\n",
    "지역 변수와 반대로 함수 바깥에서 만들어진 변수는 함수 안에서 사용이 가능하다. \n",
    "<br>이러한 변수를 전역 변수(global variable)이라고 한다."
   ]
  },
  {
   "cell_type": "code",
   "execution_count": 34,
   "id": "0ec45701",
   "metadata": {},
   "outputs": [],
   "source": [
    "z = 3\n",
    "\n",
    "def f2(x):\n",
    "    y = z * x\n",
    "    print(\"y =\",y)\n",
    "    print(\"z =\",z)\n",
    "    return y"
   ]
  },
  {
   "cell_type": "code",
   "execution_count": 35,
   "id": "5a9ffcf3",
   "metadata": {},
   "outputs": [
    {
     "name": "stdout",
     "output_type": "stream",
     "text": [
      "y = 30\n",
      "z = 3\n"
     ]
    },
    {
     "data": {
      "text/plain": [
       "30"
      ]
     },
     "execution_count": 35,
     "metadata": {},
     "output_type": "execute_result"
    }
   ],
   "source": [
    "f2(10)"
   ]
  },
  {
   "cell_type": "markdown",
   "id": "aea72c02",
   "metadata": {},
   "source": [
    "다만, 전역변수와 같은 이름의 변수를 함수 내에 지역변수로 만들면 안된다.\n",
    "<br>만약 전역변수와 같은 이름의 변수를 함수 안에 다시 만든다면 함수 안에서는 그 지역 변수를 사용하다가\n",
    "<br>함수 바깥으로 나오면 지역 변수는 사라지고 원래의 변숫값으로 돌아온다. "
   ]
  },
  {
   "cell_type": "markdown",
   "id": "87f8b03e",
   "metadata": {},
   "source": [
    "만약 함수안에서 함수 바깥에 있는 변수의 값을 꼭 바꿔야만 한다면 다음과 같이 함수 이름 앞에 global 키워드를 선언해 주면 된다."
   ]
  },
  {
   "cell_type": "code",
   "execution_count": 3,
   "id": "7d991ffd",
   "metadata": {
    "scrolled": true
   },
   "outputs": [],
   "source": [
    "z = 3\n",
    "\n",
    "def f4(x):\n",
    "    global z\n",
    "    z = 99\n",
    "    y = z * x\n",
    "    print(\"y =\", y)\n",
    "    print(\"z =\", z)\n",
    "    return y"
   ]
  },
  {
   "cell_type": "code",
   "execution_count": 4,
   "id": "e4e6650a",
   "metadata": {},
   "outputs": [
    {
     "name": "stdout",
     "output_type": "stream",
     "text": [
      "y = 990\n",
      "z = 99\n"
     ]
    },
    {
     "data": {
      "text/plain": [
       "990"
      ]
     },
     "execution_count": 4,
     "metadata": {},
     "output_type": "execute_result"
    }
   ],
   "source": [
    "f4(10)"
   ]
  },
  {
   "cell_type": "code",
   "execution_count": 5,
   "id": "f45c6925",
   "metadata": {},
   "outputs": [
    {
     "data": {
      "text/plain": [
       "99"
      ]
     },
     "execution_count": 5,
     "metadata": {},
     "output_type": "execute_result"
    }
   ],
   "source": [
    "z"
   ]
  },
  {
   "cell_type": "markdown",
   "id": "31adfa65",
   "metadata": {},
   "source": [
    "위와 같이 먼저 선언한 z의 값이 함수 내부에서 선언한 전역변수인 99로 바뀌었음을 알수 있다"
   ]
  },
  {
   "cell_type": "markdown",
   "id": "c765ffc3",
   "metadata": {},
   "source": [
    "### 연습문제\n",
    "\n",
    "함수 바깥에 m 이라는 전역 변수를 만들고 그 값을 0으로 놓는다. 앞에서 만든 diffsum 함수를 고쳐서 diffsum 함수와 같은 값을 반환하지만 함수를 실행할 때 마다 diffsum 함수에서 계산된 값이 원래 있던 m보다 크면 m을 계산된 값으로 바꾸는 함수 diffsum2 를 만든다."
   ]
  },
  {
   "cell_type": "code",
   "execution_count": 13,
   "id": "353756d3",
   "metadata": {},
   "outputs": [],
   "source": [
    "m = 0\n",
    "\n",
    "def diffsum2(a, b , c):\n",
    "    global m\n",
    "    sum_num = a + b + c\n",
    "    sqr_num = a**2 + b**2 + c**2\n",
    "    result = sum_num - sqr_num if sum_num >= sqr_num else sqr_num - sum_num\n",
    "    \n",
    "    if result > m:\n",
    "        m = result\n",
    "        \n",
    "    return result"
   ]
  },
  {
   "cell_type": "code",
   "execution_count": null,
   "id": "04de2f0a",
   "metadata": {},
   "outputs": [],
   "source": []
  },
  {
   "cell_type": "code",
   "execution_count": null,
   "id": "3da87c78",
   "metadata": {},
   "outputs": [],
   "source": []
  },
  {
   "cell_type": "code",
   "execution_count": null,
   "id": "c55ed11a",
   "metadata": {},
   "outputs": [],
   "source": []
  },
  {
   "cell_type": "code",
   "execution_count": null,
   "id": "7acd977e",
   "metadata": {},
   "outputs": [],
   "source": []
  },
  {
   "cell_type": "code",
   "execution_count": null,
   "id": "25f44de4",
   "metadata": {},
   "outputs": [],
   "source": []
  }
 ],
 "metadata": {
  "kernelspec": {
   "display_name": "Python 3 (ipykernel)",
   "language": "python",
   "name": "python3"
  },
  "language_info": {
   "codemirror_mode": {
    "name": "ipython",
    "version": 3
   },
   "file_extension": ".py",
   "mimetype": "text/x-python",
   "name": "python",
   "nbconvert_exporter": "python",
   "pygments_lexer": "ipython3",
   "version": "3.12.7"
  }
 },
 "nbformat": 4,
 "nbformat_minor": 5
}
