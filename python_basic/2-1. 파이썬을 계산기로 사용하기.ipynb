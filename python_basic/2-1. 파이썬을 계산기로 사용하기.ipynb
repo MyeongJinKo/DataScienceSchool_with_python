{
 "cells": [
  {
   "cell_type": "markdown",
   "id": "106224ba",
   "metadata": {},
   "source": [
    "# 학습목표\n",
    "\n",
    "- 파이썬으로 숫자를 다루는 법을 학습한다.\n",
    "\n",
    "- 파이썬으로 문자열을 다루는 법을 학습힌다.\n",
    "\n",
    "- if 문을 사용한 기초적인 조건문을 사용할 수 있다.\n",
    "\n",
    "- for 문을 사용한 기초적인 반복문을 사용할 수 있다.\n",
    "\n",
    "- 파이썬 함수를 만들고 사용할 수 있다.\n",
    "\n",
    "- 파이썬 리스트, 딕셔너리 자료형을 사용할 수 있다.\n",
    "\n",
    "- 클래스를 사용한 객체지향 프로그래밍을 할 수 있다.\n",
    "\n",
    "- 파이썬에서 날짜와 시간을 다룰 수 있다."
   ]
  },
  {
   "cell_type": "markdown",
   "id": "768afef6",
   "metadata": {},
   "source": [
    "### 정수 연산"
   ]
  },
  {
   "cell_type": "code",
   "execution_count": 2,
   "id": "0b25d6e8",
   "metadata": {},
   "outputs": [
    {
     "data": {
      "text/plain": [
       "2"
      ]
     },
     "execution_count": 2,
     "metadata": {},
     "output_type": "execute_result"
    }
   ],
   "source": [
    "1 + 1"
   ]
  },
  {
   "cell_type": "code",
   "execution_count": 3,
   "id": "9d1d0577",
   "metadata": {},
   "outputs": [
    {
     "data": {
      "text/plain": [
       "32"
      ]
     },
     "execution_count": 3,
     "metadata": {},
     "output_type": "execute_result"
    }
   ],
   "source": [
    "8 * 4"
   ]
  },
  {
   "cell_type": "code",
   "execution_count": 4,
   "id": "ee27739e",
   "metadata": {},
   "outputs": [
    {
     "data": {
      "text/plain": [
       "2"
      ]
     },
     "execution_count": 4,
     "metadata": {},
     "output_type": "execute_result"
    }
   ],
   "source": [
    "8 // 4"
   ]
  },
  {
   "cell_type": "code",
   "execution_count": 5,
   "id": "f740af45",
   "metadata": {},
   "outputs": [
    {
     "data": {
      "text/plain": [
       "2"
      ]
     },
     "execution_count": 5,
     "metadata": {},
     "output_type": "execute_result"
    }
   ],
   "source": [
    "11 // 4"
   ]
  },
  {
   "cell_type": "code",
   "execution_count": 6,
   "id": "2255aa4b",
   "metadata": {},
   "outputs": [
    {
     "data": {
      "text/plain": [
       "3"
      ]
     },
     "execution_count": 6,
     "metadata": {},
     "output_type": "execute_result"
    }
   ],
   "source": [
    "11 % 4"
   ]
  },
  {
   "cell_type": "code",
   "execution_count": 7,
   "id": "82ac8c7f",
   "metadata": {},
   "outputs": [
    {
     "data": {
      "text/plain": [
       "2.5"
      ]
     },
     "execution_count": 7,
     "metadata": {},
     "output_type": "execute_result"
    }
   ],
   "source": [
    "10 / 4"
   ]
  },
  {
   "cell_type": "code",
   "execution_count": 8,
   "id": "319cbbd9",
   "metadata": {},
   "outputs": [
    {
     "data": {
      "text/plain": [
       "8"
      ]
     },
     "execution_count": 8,
     "metadata": {},
     "output_type": "execute_result"
    }
   ],
   "source": [
    "2 ** 3"
   ]
  },
  {
   "cell_type": "code",
   "execution_count": 10,
   "id": "e2382a41",
   "metadata": {},
   "outputs": [
    {
     "data": {
      "text/plain": [
       "0.5"
      ]
     },
     "execution_count": 10,
     "metadata": {},
     "output_type": "execute_result"
    }
   ],
   "source": [
    "2 ** -1 # 음수 제곱은 역수. 2^(-1) = 1/2"
   ]
  },
  {
   "cell_type": "code",
   "execution_count": 11,
   "id": "84e69e7e",
   "metadata": {},
   "outputs": [
    {
     "data": {
      "text/plain": [
       "1"
      ]
     },
     "execution_count": 11,
     "metadata": {},
     "output_type": "execute_result"
    }
   ],
   "source": [
    "1000 ** 0"
   ]
  },
  {
   "cell_type": "markdown",
   "id": "e2ed9c84",
   "metadata": {},
   "source": [
    "### 연습문제\n",
    "파이썬으로 계산기로 사용하여 다음 연산을 한다."
   ]
  },
  {
   "cell_type": "code",
   "execution_count": 12,
   "id": "00ef5868",
   "metadata": {},
   "outputs": [
    {
     "name": "stdout",
     "output_type": "stream",
     "text": [
      "4\n",
      "67\n",
      "38998\n",
      "60\n"
     ]
    }
   ],
   "source": [
    "#1\n",
    "print(3 * 2 - 8 // 4)\n",
    "print(25 * 6 // 3 + 17)\n",
    "print(39021 - 276920 // 12040)\n",
    "print(2**6 - 10 % 6)"
   ]
  },
  {
   "cell_type": "code",
   "execution_count": 14,
   "id": "e7c568f0",
   "metadata": {},
   "outputs": [
    {
     "name": "stdout",
     "output_type": "stream",
     "text": [
      "-24\n",
      "50\n",
      "28580\n",
      "16\n"
     ]
    }
   ],
   "source": [
    "print(12 - (5 * 7 + 1))\n",
    "print(5 * (8 + (10 - 6) // 2))\n",
    "print(48320 - ((365 - 5 * 9) // 16) * 987)\n",
    "print(((3**4 - 3 * 7) % 5 + 4)**2)"
   ]
  },
  {
   "cell_type": "markdown",
   "id": "0db3b9fd",
   "metadata": {},
   "source": [
    "### 부등식 참과 거짓, boolean"
   ]
  },
  {
   "cell_type": "code",
   "execution_count": 16,
   "id": "3ceac9c1",
   "metadata": {},
   "outputs": [
    {
     "name": "stdout",
     "output_type": "stream",
     "text": [
      "True\n",
      "False\n",
      "True\n",
      "True\n",
      "True\n"
     ]
    }
   ],
   "source": [
    "print(2 > 1)\n",
    "print(2 > 2)\n",
    "print(2 == 2)\n",
    "print(2 != 1)\n",
    "print(3 <= 3)"
   ]
  },
  {
   "cell_type": "code",
   "execution_count": 17,
   "id": "f31e0664",
   "metadata": {},
   "outputs": [
    {
     "name": "stdout",
     "output_type": "stream",
     "text": [
      "True\n",
      "False\n",
      "False\n",
      "True\n",
      "True\n"
     ]
    }
   ],
   "source": [
    "print(True & True)\n",
    "print(True & False)\n",
    "print(False & False)\n",
    "print(True | True)\n",
    "print(True | False)"
   ]
  },
  {
   "cell_type": "markdown",
   "id": "b47bc50e",
   "metadata": {},
   "source": [
    "### 연습문제"
   ]
  },
  {
   "cell_type": "code",
   "execution_count": 21,
   "id": "0e92ae00",
   "metadata": {},
   "outputs": [
    {
     "name": "stdout",
     "output_type": "stream",
     "text": [
      "False\n",
      "True\n",
      "True\n"
     ]
    }
   ],
   "source": [
    "print((5 <= 6) & (3 == 4))\n",
    "print((2 != 1) | ( 3>= 4))\n",
    "print((5 <= 6) & ((0 == 0) | ( 3< 4)))"
   ]
  },
  {
   "cell_type": "markdown",
   "id": "1648fa3f",
   "metadata": {},
   "source": [
    "### 변수 사용하기"
   ]
  },
  {
   "cell_type": "code",
   "execution_count": 22,
   "id": "0b98ea5f",
   "metadata": {},
   "outputs": [
    {
     "data": {
      "text/plain": [
       "6"
      ]
     },
     "execution_count": 22,
     "metadata": {},
     "output_type": "execute_result"
    }
   ],
   "source": [
    "a = 2\n",
    "b = 3\n",
    "a * b"
   ]
  },
  {
   "cell_type": "code",
   "execution_count": 23,
   "id": "d284f359",
   "metadata": {},
   "outputs": [
    {
     "data": {
      "text/plain": [
       "True"
      ]
     },
     "execution_count": 23,
     "metadata": {},
     "output_type": "execute_result"
    }
   ],
   "source": [
    "a = 4\n",
    "(a > 0) & (a <= 10)"
   ]
  }
 ],
 "metadata": {
  "kernelspec": {
   "display_name": "Python 3 (ipykernel)",
   "language": "python",
   "name": "python3"
  },
  "language_info": {
   "codemirror_mode": {
    "name": "ipython",
    "version": 3
   },
   "file_extension": ".py",
   "mimetype": "text/x-python",
   "name": "python",
   "nbconvert_exporter": "python",
   "pygments_lexer": "ipython3",
   "version": "3.12.7"
  }
 },
 "nbformat": 4,
 "nbformat_minor": 5
}
