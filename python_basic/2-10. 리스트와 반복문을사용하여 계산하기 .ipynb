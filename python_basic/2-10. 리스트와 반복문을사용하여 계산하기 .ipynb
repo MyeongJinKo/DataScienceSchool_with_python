{
 "cells": [
  {
   "cell_type": "code",
   "execution_count": 1,
   "id": "b20d55f7-e2a6-4cdb-867a-9a6b52739795",
   "metadata": {},
   "outputs": [
    {
     "data": {
      "text/plain": [
       "[90, 85, 95, 80, 90, 100, 85, 75, 85, 80]"
      ]
     },
     "execution_count": 1,
     "metadata": {},
     "output_type": "execute_result"
    }
   ],
   "source": [
    "a = [90, 85, 95, 80, 90, 100, 85, 75, 85, 80]\n",
    "a"
   ]
  },
  {
   "cell_type": "code",
   "execution_count": 2,
   "id": "cb01839c",
   "metadata": {},
   "outputs": [
    {
     "data": {
      "text/plain": [
       "10"
      ]
     },
     "execution_count": 2,
     "metadata": {},
     "output_type": "execute_result"
    }
   ],
   "source": [
    "len(a)"
   ]
  },
  {
   "cell_type": "code",
   "execution_count": 3,
   "id": "e21354e9",
   "metadata": {},
   "outputs": [
    {
     "data": {
      "text/plain": [
       "[185, 175, 185, 170, 185, 200, 175, 155, 180, 170]"
      ]
     },
     "execution_count": 3,
     "metadata": {},
     "output_type": "execute_result"
    }
   ],
   "source": [
    "s = []\n",
    "a1 = [90, 85, 95, 80, 90, 100, 85, 75, 85, 80]\n",
    "a2 = [95, 90, 90, 90, 95, 100, 90, 80, 95, 90]\n",
    "for i in range(len(a1)):\n",
    "    s.append(a1[i] + a2[i])\n",
    "\n",
    "s"
   ]
  },
  {
   "cell_type": "markdown",
   "id": "c4f2b145",
   "metadata": {},
   "source": [
    "### 리스트의 원소를 직접 반복문에서 사용하기\n",
    "지금까지는 for 반복문을 사용할 때 range 명령으로 리스트에 적용할 인덱스 정수를 만들어서 리스트의 원소 값을 찾았다. 하지만 for 반복문에서 리스트의 원소를 직접 뽑아 카운터 변수에 넣을 수도 있다.\n",
    "\n",
    "지금까지 반복문에서 사용해 온 range 명령은 사실 리스트를 만드는 명령이다."
   ]
  },
  {
   "cell_type": "code",
   "execution_count": 4,
   "id": "430751f3",
   "metadata": {},
   "outputs": [
    {
     "data": {
      "text/plain": [
       "[0, 1, 2, 3, 4]"
      ]
     },
     "execution_count": 4,
     "metadata": {},
     "output_type": "execute_result"
    }
   ],
   "source": [
    "list(range(5))"
   ]
  },
  {
   "cell_type": "code",
   "execution_count": 5,
   "id": "ec016d69",
   "metadata": {
    "scrolled": true
   },
   "outputs": [
    {
     "name": "stdout",
     "output_type": "stream",
     "text": [
      "0\n",
      "1\n",
      "2\n",
      "3\n",
      "4\n"
     ]
    }
   ],
   "source": [
    "for i in range(5):\n",
    "    print(i)"
   ]
  },
  {
   "cell_type": "markdown",
   "id": "92a5a202",
   "metadata": {},
   "source": [
    "### enumerate 함수\n",
    "때로는 반복문에 정수 인덱스가 필요할 때도 있다. 예를 들어 반복문에서 append 메서드를 쓰면 계산 속도가 저하된다. 이때는 미리 저장 공간을 만들어 놓고 해당 위치에 계산 결과를 갱신해야 한다. 이때는 enumerate 명령을 쓸 수 있다. enumerate 명령은 리스트의 원소를 반복하면서 동시에 인덱스 값도 생성한다."
   ]
  },
  {
   "cell_type": "code",
   "execution_count": 6,
   "id": "50c892ff",
   "metadata": {},
   "outputs": [
    {
     "name": "stdout",
     "output_type": "stream",
     "text": [
      "i = 0, e = a\n",
      "i = 1, e = b\n",
      "i = 2, e = c\n"
     ]
    }
   ],
   "source": [
    "for i, e in enumerate([\"a\", \"b\", \"c\"]):\n",
    "    print(\"i = %d, e = %s\" % (i, e))"
   ]
  },
  {
   "cell_type": "code",
   "execution_count": 7,
   "id": "682a3775",
   "metadata": {},
   "outputs": [
    {
     "data": {
      "text/plain": [
       "[185, 175, 185, 170, 185, 200, 175, 155, 180, 170]"
      ]
     },
     "execution_count": 7,
     "metadata": {},
     "output_type": "execute_result"
    }
   ],
   "source": [
    "s = [0, 0, 0, 0, 0, 0, 0, 0, 0, 0]\n",
    "a1 = [90, 85, 95, 80, 90, 100, 85, 75, 85, 80]\n",
    "a2 = [95, 90, 90, 90, 95, 100, 90, 80, 95, 90]\n",
    "\n",
    "for i, (a1i, a2i) in enumerate(zip(a1, a2)):\n",
    "    s[i] = a1i + a2i\n",
    "s"
   ]
  },
  {
   "cell_type": "markdown",
   "id": "f23401d6",
   "metadata": {},
   "source": [
    "### 리스트의 리스트\n"
   ]
  },
  {
   "cell_type": "code",
   "execution_count": 8,
   "id": "0f89fe83",
   "metadata": {},
   "outputs": [],
   "source": [
    "X = [[85,  90,  20,  50,  60,  25,  30,  75,  40,  55],\n",
    "     [70, 100,  70,  70,  55,  75,  55,  60,  40,  45],\n",
    "     [25,  65,  15,  25,  20,   5,  60,  70,  35,  10],\n",
    "     [80,  45,  80,  40,  75,  35,  80,  55,  70,  90],\n",
    "     [35,  50,  75,  25,  35,  70,  65,  50,  70,  10]]"
   ]
  },
  {
   "cell_type": "code",
   "execution_count": 10,
   "id": "6b23dc9f",
   "metadata": {},
   "outputs": [
    {
     "data": {
      "text/plain": [
       "52.7"
      ]
     },
     "execution_count": 10,
     "metadata": {},
     "output_type": "execute_result"
    }
   ],
   "source": [
    "# sum = 0\n",
    "# num = 0\n",
    "# for i in range(len(X)):\n",
    "#     for j in range(len(X[i])):\n",
    "#         num += 1\n",
    "#         sum += X[i][j]\n",
    "\n",
    "# sum / num"
   ]
  },
  {
   "cell_type": "markdown",
   "id": "c6de80e5",
   "metadata": {},
   "source": [
    "### Zip 함수"
   ]
  },
  {
   "cell_type": "markdown",
   "id": "9d2520cb",
   "metadata": {},
   "source": [
    "zip 함수는 두 개의 리스트를 합쳐서 각 리스트 원소의 쌍을 원소로 가지는 하나의 리스트를 만든다."
   ]
  },
  {
   "cell_type": "code",
   "execution_count": 33,
   "id": "1de05ef6",
   "metadata": {},
   "outputs": [
    {
     "data": {
      "text/plain": [
       "[(90, 95),\n",
       " (85, 90),\n",
       " (95, 90),\n",
       " (80, 90),\n",
       " (90, 95),\n",
       " (100, 100),\n",
       " (85, 90),\n",
       " (75, 80),\n",
       " (85, 95),\n",
       " (80, 90)]"
      ]
     },
     "execution_count": 33,
     "metadata": {},
     "output_type": "execute_result"
    }
   ],
   "source": [
    "a12 = list(zip(a1, a2))\n",
    "a12"
   ]
  },
  {
   "cell_type": "code",
   "execution_count": 34,
   "id": "5475e80d",
   "metadata": {},
   "outputs": [
    {
     "data": {
      "text/plain": [
       "[185, 175, 185, 170, 185, 200, 175, 155, 180, 170]"
      ]
     },
     "execution_count": 34,
     "metadata": {},
     "output_type": "execute_result"
    }
   ],
   "source": [
    "s = []\n",
    "\n",
    "for a1i, a2i in zip(a1, a2):\n",
    "    s.append(a1i + a2i)\n",
    "s"
   ]
  },
  {
   "cell_type": "code",
   "execution_count": 35,
   "id": "006afb78",
   "metadata": {},
   "outputs": [
    {
     "data": {
      "text/plain": [
       "[(90, 85, 95, 80, 90, 100, 85, 75, 85, 80),\n",
       " (95, 90, 90, 90, 95, 100, 90, 80, 95, 90)]"
      ]
     },
     "execution_count": 35,
     "metadata": {},
     "output_type": "execute_result"
    }
   ],
   "source": [
    "a21 = list(zip(*a12))\n",
    "a21"
   ]
  },
  {
   "cell_type": "code",
   "execution_count": 36,
   "id": "782e5927",
   "metadata": {},
   "outputs": [
    {
     "data": {
      "text/plain": [
       "[(90, 95),\n",
       " (85, 90),\n",
       " (95, 90),\n",
       " (80, 90),\n",
       " (90, 95),\n",
       " (100, 100),\n",
       " (85, 90),\n",
       " (75, 80),\n",
       " (85, 95),\n",
       " (80, 90)]"
      ]
     },
     "execution_count": 36,
     "metadata": {},
     "output_type": "execute_result"
    }
   ],
   "source": [
    "list(zip(*a21))"
   ]
  },
  {
   "cell_type": "markdown",
   "id": "1b86a2ba",
   "metadata": {},
   "source": [
    "### 연습문제\n"
   ]
  },
  {
   "cell_type": "code",
   "execution_count": 38,
   "id": "3f6b1738",
   "metadata": {},
   "outputs": [
    {
     "data": {
      "text/plain": [
       "['길동', '철수', '영수', '방자']"
      ]
     },
     "execution_count": 38,
     "metadata": {},
     "output_type": "execute_result"
    }
   ],
   "source": [
    "name = []\n",
    "x = [\n",
    "  [\"길동\", 90],\n",
    "  [\"철수\", 80],\n",
    "  [\"영수\", 70],\n",
    "  [\"방자\", 60],\n",
    "]\n",
    "\n",
    "for i in range(len(x)):\n",
    "    name.append(x[i][0])\n",
    "    \n",
    "name\n",
    "    "
   ]
  },
  {
   "cell_type": "code",
   "execution_count": null,
   "id": "76f9faa2",
   "metadata": {},
   "outputs": [],
   "source": []
  },
  {
   "cell_type": "code",
   "execution_count": null,
   "id": "d7199730",
   "metadata": {},
   "outputs": [],
   "source": []
  },
  {
   "cell_type": "code",
   "execution_count": null,
   "id": "3b0c3d86",
   "metadata": {},
   "outputs": [],
   "source": []
  },
  {
   "cell_type": "code",
   "execution_count": null,
   "id": "a38006fb",
   "metadata": {},
   "outputs": [],
   "source": []
  },
  {
   "cell_type": "code",
   "execution_count": null,
   "id": "6c69f2a6",
   "metadata": {},
   "outputs": [],
   "source": []
  }
 ],
 "metadata": {
  "kernelspec": {
   "display_name": "Python 3 (ipykernel)",
   "language": "python",
   "name": "python3"
  },
  "language_info": {
   "codemirror_mode": {
    "name": "ipython",
    "version": 3
   },
   "file_extension": ".py",
   "mimetype": "text/x-python",
   "name": "python",
   "nbconvert_exporter": "python",
   "pygments_lexer": "ipython3",
   "version": "3.12.7"
  }
 },
 "nbformat": 4,
 "nbformat_minor": 5
}
